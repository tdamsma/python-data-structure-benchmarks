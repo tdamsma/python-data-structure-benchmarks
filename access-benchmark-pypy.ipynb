{
 "cells": [
  {
   "cell_type": "code",
   "execution_count": 1,
   "metadata": {
    "collapsed": false
   },
   "outputs": [],
   "source": [
    "import sys\n",
    "import random\n",
    "from collections import namedtuple\n",
    "sys.version\n",
    "\n",
    "N_KEYS = 15\n",
    "SAMPLE_MULTIPLY = 1\n",
    "FMT = 'this_is_really_a_very_very_long_long_key_key_very_very_long_key_{:d}'"
   ]
  },
  {
   "cell_type": "code",
   "execution_count": 2,
   "metadata": {
    "collapsed": false
   },
   "outputs": [],
   "source": [
    "keys = [FMT.format(i) for i in range(0,N_KEYS)] \n",
    "\n",
    "#make a dict\n",
    "di = {k: i for i, k in enumerate(keys)}\n",
    "\n",
    "# and a named tuple\n",
    "NT = namedtuple('NT', keys)\n",
    "nt = NT._make(range(N_KEYS))\n",
    "\n",
    "# 'draw' a sample of keys\n",
    "sample_keys = keys * SAMPLE_MULTIPLY\n",
    "random.shuffle(sample_keys)\n",
    "sample_indices = list(range(N_KEYS)) * SAMPLE_MULTIPLY\n",
    "random.shuffle(sample_indices)\n",
    "\n",
    "total = sum(range(N_KEYS)) * SAMPLE_MULTIPLY"
   ]
  },
  {
   "cell_type": "code",
   "execution_count": 3,
   "metadata": {
    "collapsed": false
   },
   "outputs": [
    {
     "name": "stdout",
     "output_type": "stream",
     "text": [
      "The slowest run took 115.71 times longer than the fastest. This could mean that an intermediate result is being cached.\n",
      "1000000 loops, best of 3: 761 ns per loop\n"
     ]
    }
   ],
   "source": [
    "%%timeit\n",
    "assert(sum([di[k] for k in sample_keys]) == total)"
   ]
  },
  {
   "cell_type": "code",
   "execution_count": 4,
   "metadata": {
    "collapsed": false
   },
   "outputs": [
    {
     "name": "stdout",
     "output_type": "stream",
     "text": [
      "The slowest run took 104.12 times longer than the fastest. This could mean that an intermediate result is being cached.\n",
      "1000000 loops, best of 3: 1.37 µs per loop\n"
     ]
    }
   ],
   "source": [
    "%%timeit\n",
    "assert(sum([getattr(nt,k) for k in sample_keys]) == total)"
   ]
  },
  {
   "cell_type": "code",
   "execution_count": 5,
   "metadata": {
    "collapsed": false
   },
   "outputs": [
    {
     "name": "stdout",
     "output_type": "stream",
     "text": [
      "The slowest run took 55.20 times longer than the fastest. This could mean that an intermediate result is being cached.\n",
      "1000000 loops, best of 3: 671 ns per loop\n"
     ]
    }
   ],
   "source": [
    "%%timeit\n",
    "assert(sum([nt[i] for i in sample_indices]) == total)"
   ]
  },
  {
   "cell_type": "code",
   "execution_count": null,
   "metadata": {
    "collapsed": true
   },
   "outputs": [],
   "source": []
  }
 ],
 "metadata": {
  "kernelspec": {
   "display_name": "Python 2",
   "language": "python",
   "name": "python2"
  },
  "language_info": {
   "codemirror_mode": {
    "name": "ipython",
    "version": 2
   },
   "file_extension": ".py",
   "mimetype": "text/x-python",
   "name": "python",
   "nbconvert_exporter": "python",
   "pygments_lexer": "ipython2",
   "version": "2.7.10"
  }
 },
 "nbformat": 4,
 "nbformat_minor": 0
}
